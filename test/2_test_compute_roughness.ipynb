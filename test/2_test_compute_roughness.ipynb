{
 "cells": [
  {
   "cell_type": "markdown",
   "metadata": {},
   "source": [
    "# TEST : compute_roughness\n",
    "\n",
    "Here we execute similar cells as in 1_readFiles, but test out changes when executing cells twice etc.\n",
    "\n",
    "Comparison is mostly done using \n",
    "> assert arr0 == arr0_2test\n",
    "If more calculations are involved and hence small calculation differences, we use the maximal difference.\n",
    "\n",
    "The naming of the second computed values is always appended with \n",
    "> _2test\n",
    "\n",
    "After each comparison the _2test is deleted from the namespace.\n",
    "\n",
    "At the end the namespace is deleted via\n",
    "> %reset -f\n",
    "to clear up space."
   ]
  },
  {
   "cell_type": "code",
   "execution_count": 26,
   "metadata": {},
   "outputs": [
    {
     "name": "stdout",
     "output_type": "stream",
     "text": [
      "The autoreload extension is already loaded. To reload it, use:\n",
      "  %reload_ext autoreload\n",
      "/Users/janfelixsenge/GitBucket/github_tda_shotpeening\n"
     ]
    }
   ],
   "source": [
    "%load_ext autoreload\n",
    "%autoreload 2\n",
    "\n",
    "# change current working directory to parent folder, to execute script as if we execute ther\n",
    "%pwd\n",
    "%cd .."
   ]
  },
  {
   "cell_type": "code",
   "execution_count": 27,
   "metadata": {},
   "outputs": [],
   "source": [
    "import numpy as np\n",
    "import pandas as pd\n",
    "import time\n",
    "\n",
    "import matplotlib.pyplot as plt\n",
    "import seaborn as sns\n",
    "\n",
    "from pathlib import Path\n",
    "\n",
    "# import path variables\n",
    "from src.config import data_path_interim, data_path_processed\n",
    "# get the value for the postprocessing of the surface\n",
    "from src.config import simulation_processed\n",
    "\n",
    "#\n",
    "from src.parameters.areal_surface_parameter import getRoughnessParams\n",
    "from src.parameters.persistence_parameters import getPersistence, persistence_parameters\n",
    "from src.postprocessing import wrapper_postprocess"
   ]
  },
  {
   "cell_type": "code",
   "execution_count": 28,
   "metadata": {},
   "outputs": [],
   "source": [
    "# load data, get the according values and delete the loaded data again\n",
    "data = np.load(data_path_interim / 'surface_numSimulation.npz')\n",
    "height = data['values']\n",
    "x_grid = data['x_grid']\n",
    "y_grid = data['y_grid']\n",
    "\n",
    "df_info = pd.read_csv(data_path_interim / 'surface_numSimulation_newcoverage.csv')"
   ]
  },
  {
   "cell_type": "markdown",
   "metadata": {},
   "source": [
    "Due to the setup of the FE modelling, we have not introduced any tilting in the surface sample.\n",
    "\n",
    "Potsprocessing therefore does not need an nominal surface to be subtracted from the surface.\n",
    "\n",
    "Only step to be done is to apply Gaussian filtering with an cut-off of 0.08mm using FastFourier transform (with zero padding)."
   ]
  },
  {
   "cell_type": "code",
   "execution_count": 29,
   "metadata": {},
   "outputs": [
    {
     "name": "stdout",
     "output_type": "stream",
     "text": [
      "Processing of the surface is done using: filt\n",
      "Remove a least square fitted plane from surface: False\n",
      "Use gausian filter: True\n"
     ]
    }
   ],
   "source": [
    "processed = simulation_processed\n",
    "print('Processing of the surface is done using:', processed)\n",
    "\n",
    "# since we already interpolated the surface we do not do that again\n",
    "# during postprocessing\n",
    "interpolation_size = 0\n",
    "\n",
    "use_filter = False\n",
    "removeplane = False\n",
    "if 'filt' in processed:\n",
    "    use_filter = True\n",
    "if 'nom' in processed:\n",
    "    removeplane = True\n",
    "    \n",
    "print('Remove a least square fitted plane from surface:', removeplane)\n",
    "print('Use gausian filter:', use_filter)"
   ]
  },
  {
   "cell_type": "code",
   "execution_count": 30,
   "metadata": {},
   "outputs": [
    {
     "name": "stdout",
     "output_type": "stream",
     "text": [
      "Postprocessing took 67.99547982215881 seconds.\n"
     ]
    }
   ],
   "source": [
    "# postprocessing; use gaussian filter and do a least square fit\n",
    "# do not interpolate the heightmap again\n",
    "\n",
    "t0 = time.time()\n",
    "znew, xnew, ynew = wrapper_postprocess(height,\n",
    "                                       x_grid,\n",
    "                                       y_grid,\n",
    "                                       removeplane=removeplane,\n",
    "                                       use_filter=use_filter,\n",
    "                                       interpolation_size=interpolation_size,\n",
    "                                       cut_matrix=2,\n",
    "                                       dimension=2)\n",
    "print(f'Postprocessing took {time.time() - t0} seconds.')\n",
    "\n",
    "t0 = time.time()\n",
    "znew_2test, xnew_2test, ynew_2test = wrapper_postprocess(height,\n",
    "                                       x_grid,\n",
    "                                       y_grid,\n",
    "                                       removeplane=removeplane,\n",
    "                                       use_filter=use_filter,\n",
    "                                       interpolation_size=interpolation_size,\n",
    "                                       cut_matrix=2,\n",
    "                                       dimension=2)\n",
    "print(f'Postprocessing took {time.time() - t0} seconds.')"
   ]
  },
  {
   "cell_type": "code",
   "execution_count": 31,
   "metadata": {},
   "outputs": [
    {
     "ename": "NameError",
     "evalue": "name 'znew_2test' is not defined",
     "output_type": "error",
     "traceback": [
      "\u001b[0;31m---------------------------------------------------------------------------\u001b[0m",
      "\u001b[0;31mNameError\u001b[0m                                 Traceback (most recent call last)",
      "\u001b[0;32m/var/folders/cz/1j710_hx3xv3x34yn40s9j940000gn/T/ipykernel_12222/2362404850.py\u001b[0m in \u001b[0;36m<module>\u001b[0;34m\u001b[0m\n\u001b[1;32m      1\u001b[0m \u001b[0;31m# check\u001b[0m\u001b[0;34m\u001b[0m\u001b[0;34m\u001b[0m\u001b[0;34m\u001b[0m\u001b[0m\n\u001b[0;32m----> 2\u001b[0;31m \u001b[0;32massert\u001b[0m \u001b[0;34m(\u001b[0m\u001b[0mznew\u001b[0m \u001b[0;34m==\u001b[0m \u001b[0mznew_2test\u001b[0m\u001b[0;34m)\u001b[0m\u001b[0;34m.\u001b[0m\u001b[0mall\u001b[0m\u001b[0;34m(\u001b[0m\u001b[0;34m)\u001b[0m\u001b[0;34m\u001b[0m\u001b[0;34m\u001b[0m\u001b[0m\n\u001b[0m\u001b[1;32m      3\u001b[0m \u001b[0;32massert\u001b[0m \u001b[0;34m(\u001b[0m\u001b[0mxnew\u001b[0m \u001b[0;34m==\u001b[0m \u001b[0mxnew_2test\u001b[0m\u001b[0;34m)\u001b[0m\u001b[0;34m.\u001b[0m\u001b[0mall\u001b[0m\u001b[0;34m(\u001b[0m\u001b[0;34m)\u001b[0m\u001b[0;34m\u001b[0m\u001b[0;34m\u001b[0m\u001b[0m\n\u001b[1;32m      4\u001b[0m \u001b[0;32massert\u001b[0m \u001b[0;34m(\u001b[0m\u001b[0mynew\u001b[0m \u001b[0;34m==\u001b[0m \u001b[0mynew_2test\u001b[0m\u001b[0;34m)\u001b[0m\u001b[0;34m.\u001b[0m\u001b[0mall\u001b[0m\u001b[0;34m(\u001b[0m\u001b[0;34m)\u001b[0m\u001b[0;34m\u001b[0m\u001b[0;34m\u001b[0m\u001b[0m\n",
      "\u001b[0;31mNameError\u001b[0m: name 'znew_2test' is not defined"
     ]
    }
   ],
   "source": [
    "# check\n",
    "assert (znew == znew_2test).all()\n",
    "assert (xnew == xnew_2test).all()\n",
    "assert (ynew == ynew_2test).all()"
   ]
  },
  {
   "cell_type": "markdown",
   "metadata": {},
   "source": [
    "## Roughness parameters"
   ]
  },
  {
   "cell_type": "code",
   "execution_count": 32,
   "metadata": {},
   "outputs": [
    {
     "ename": "KeyboardInterrupt",
     "evalue": "",
     "output_type": "error",
     "traceback": [
      "\u001b[0;31m---------------------------------------------------------------------------\u001b[0m",
      "\u001b[0;31mKeyboardInterrupt\u001b[0m                         Traceback (most recent call last)",
      "\u001b[0;32m/var/folders/cz/1j710_hx3xv3x34yn40s9j940000gn/T/ipykernel_12222/923571715.py\u001b[0m in \u001b[0;36m<module>\u001b[0;34m\u001b[0m\n\u001b[1;32m      2\u001b[0m \u001b[0mt0\u001b[0m \u001b[0;34m=\u001b[0m\u001b[0mtime\u001b[0m\u001b[0;34m.\u001b[0m\u001b[0mtime\u001b[0m\u001b[0;34m(\u001b[0m\u001b[0;34m)\u001b[0m\u001b[0;34m\u001b[0m\u001b[0;34m\u001b[0m\u001b[0m\n\u001b[1;32m      3\u001b[0m \u001b[0;34m\u001b[0m\u001b[0m\n\u001b[0;32m----> 4\u001b[0;31m df_conventional = getRoughnessParams(znew, xnew, ynew,\n\u001b[0m\u001b[1;32m      5\u001b[0m                                      \u001b[0mversion\u001b[0m\u001b[0;34m=\u001b[0m\u001b[0;34m'all'\u001b[0m\u001b[0;34m,\u001b[0m\u001b[0;34m\u001b[0m\u001b[0;34m\u001b[0m\u001b[0m\n\u001b[1;32m      6\u001b[0m                                      shift=True)\n",
      "\u001b[0;32m~/GitBucket/github_tda_shotpeening/tda_shotpeening/tda_shotpeening/src/parameters/areal_surface_parameter.py\u001b[0m in \u001b[0;36mgetRoughnessParams\u001b[0;34m(z_values, x_grid, y_grid, version, integral, shift, dimension, return_shift)\u001b[0m\n\u001b[1;32m     27\u001b[0m         \u001b[0mdf_data\u001b[0m \u001b[0;34m=\u001b[0m \u001b[0;34m[\u001b[0m\u001b[0;34m]\u001b[0m\u001b[0;34m\u001b[0m\u001b[0;34m\u001b[0m\u001b[0m\n\u001b[1;32m     28\u001b[0m         \u001b[0;32mfor\u001b[0m \u001b[0mz\u001b[0m \u001b[0;32min\u001b[0m \u001b[0mz_values\u001b[0m\u001b[0;34m:\u001b[0m\u001b[0;34m\u001b[0m\u001b[0;34m\u001b[0m\u001b[0m\n\u001b[0;32m---> 29\u001b[0;31m             param, name, name_long = compute_roughnessparameters(z,\n\u001b[0m\u001b[1;32m     30\u001b[0m                                                                  \u001b[0mx_grid\u001b[0m\u001b[0;34m,\u001b[0m \u001b[0my_grid\u001b[0m\u001b[0;34m,\u001b[0m\u001b[0;34m\u001b[0m\u001b[0;34m\u001b[0m\u001b[0m\n\u001b[1;32m     31\u001b[0m                                                                  \u001b[0mversion\u001b[0m\u001b[0;34m,\u001b[0m \u001b[0mintegral\u001b[0m\u001b[0;34m,\u001b[0m\u001b[0;34m\u001b[0m\u001b[0;34m\u001b[0m\u001b[0m\n",
      "\u001b[0;32m~/GitBucket/github_tda_shotpeening/tda_shotpeening/tda_shotpeening/src/parameters/areal_surface_parameter.py\u001b[0m in \u001b[0;36mcompute_roughnessparameters\u001b[0;34m(z_values, x_grid, y_grid, version, integral, shift, return_shift)\u001b[0m\n\u001b[1;32m    116\u001b[0m \u001b[0;34m\u001b[0m\u001b[0m\n\u001b[1;32m    117\u001b[0m         \u001b[0;32mif\u001b[0m \u001b[0mintegral\u001b[0m \u001b[0;34m==\u001b[0m \u001b[0;34m'trapezoid'\u001b[0m\u001b[0;34m:\u001b[0m\u001b[0;34m\u001b[0m\u001b[0;34m\u001b[0m\u001b[0m\n\u001b[0;32m--> 118\u001b[0;31m             param.append(trapezoid([trapezoid(np.abs(z_val_x), x_grid)\n\u001b[0m\u001b[1;32m    119\u001b[0m                                     for z_val_x in z_values], y_grid) / grid_area)\n\u001b[1;32m    120\u001b[0m         \u001b[0;32melif\u001b[0m \u001b[0mintegral\u001b[0m \u001b[0;34m==\u001b[0m \u001b[0;34m'simpson'\u001b[0m\u001b[0;34m:\u001b[0m\u001b[0;34m\u001b[0m\u001b[0;34m\u001b[0m\u001b[0m\n",
      "\u001b[0;32m~/GitBucket/github_tda_shotpeening/tda_shotpeening/tda_shotpeening/src/parameters/areal_surface_parameter.py\u001b[0m in \u001b[0;36m<listcomp>\u001b[0;34m(.0)\u001b[0m\n\u001b[1;32m    116\u001b[0m \u001b[0;34m\u001b[0m\u001b[0m\n\u001b[1;32m    117\u001b[0m         \u001b[0;32mif\u001b[0m \u001b[0mintegral\u001b[0m \u001b[0;34m==\u001b[0m \u001b[0;34m'trapezoid'\u001b[0m\u001b[0;34m:\u001b[0m\u001b[0;34m\u001b[0m\u001b[0;34m\u001b[0m\u001b[0m\n\u001b[0;32m--> 118\u001b[0;31m             param.append(trapezoid([trapezoid(np.abs(z_val_x), x_grid)\n\u001b[0m\u001b[1;32m    119\u001b[0m                                     for z_val_x in z_values], y_grid) / grid_area)\n\u001b[1;32m    120\u001b[0m         \u001b[0;32melif\u001b[0m \u001b[0mintegral\u001b[0m \u001b[0;34m==\u001b[0m \u001b[0;34m'simpson'\u001b[0m\u001b[0;34m:\u001b[0m\u001b[0;34m\u001b[0m\u001b[0;34m\u001b[0m\u001b[0m\n",
      "\u001b[0;32m<__array_function__ internals>\u001b[0m in \u001b[0;36mtrapz\u001b[0;34m(*args, **kwargs)\u001b[0m\n",
      "\u001b[0;32m/opt/anaconda3/envs/shotpeening/lib/python3.8/site-packages/numpy/lib/function_base.py\u001b[0m in \u001b[0;36mtrapz\u001b[0;34m(y, x, dx, axis)\u001b[0m\n\u001b[1;32m   4086\u001b[0m     \u001b[0mslice2\u001b[0m\u001b[0;34m[\u001b[0m\u001b[0maxis\u001b[0m\u001b[0;34m]\u001b[0m \u001b[0;34m=\u001b[0m \u001b[0mslice\u001b[0m\u001b[0;34m(\u001b[0m\u001b[0;32mNone\u001b[0m\u001b[0;34m,\u001b[0m \u001b[0;34m-\u001b[0m\u001b[0;36m1\u001b[0m\u001b[0;34m)\u001b[0m\u001b[0;34m\u001b[0m\u001b[0;34m\u001b[0m\u001b[0m\n\u001b[1;32m   4087\u001b[0m     \u001b[0;32mtry\u001b[0m\u001b[0;34m:\u001b[0m\u001b[0;34m\u001b[0m\u001b[0;34m\u001b[0m\u001b[0m\n\u001b[0;32m-> 4088\u001b[0;31m         \u001b[0mret\u001b[0m \u001b[0;34m=\u001b[0m \u001b[0;34m(\u001b[0m\u001b[0md\u001b[0m \u001b[0;34m*\u001b[0m \u001b[0;34m(\u001b[0m\u001b[0my\u001b[0m\u001b[0;34m[\u001b[0m\u001b[0mtuple\u001b[0m\u001b[0;34m(\u001b[0m\u001b[0mslice1\u001b[0m\u001b[0;34m)\u001b[0m\u001b[0;34m]\u001b[0m \u001b[0;34m+\u001b[0m \u001b[0my\u001b[0m\u001b[0;34m[\u001b[0m\u001b[0mtuple\u001b[0m\u001b[0;34m(\u001b[0m\u001b[0mslice2\u001b[0m\u001b[0;34m)\u001b[0m\u001b[0;34m]\u001b[0m\u001b[0;34m)\u001b[0m \u001b[0;34m/\u001b[0m \u001b[0;36m2.0\u001b[0m\u001b[0;34m)\u001b[0m\u001b[0;34m.\u001b[0m\u001b[0msum\u001b[0m\u001b[0;34m(\u001b[0m\u001b[0maxis\u001b[0m\u001b[0;34m)\u001b[0m\u001b[0;34m\u001b[0m\u001b[0;34m\u001b[0m\u001b[0m\n\u001b[0m\u001b[1;32m   4089\u001b[0m     \u001b[0;32mexcept\u001b[0m \u001b[0mValueError\u001b[0m\u001b[0;34m:\u001b[0m\u001b[0;34m\u001b[0m\u001b[0;34m\u001b[0m\u001b[0m\n\u001b[1;32m   4090\u001b[0m         \u001b[0;31m# Operations didn't work, cast to ndarray\u001b[0m\u001b[0;34m\u001b[0m\u001b[0;34m\u001b[0m\u001b[0;34m\u001b[0m\u001b[0m\n",
      "\u001b[0;31mKeyboardInterrupt\u001b[0m: "
     ]
    }
   ],
   "source": [
    "# Now calculate the parameter values for the conventional parameters\n",
    "t0 =time.time()\n",
    "\n",
    "df_conventional = getRoughnessParams(znew, xnew, ynew,\n",
    "                                     version='all',\n",
    "                                     shift=True)\n",
    "df_conventional['id'] = range(znew.shape[0])\n",
    "\n",
    "print(f'Calculating conventional parameters took {time.time() - t0} seconds.')\n",
    "\n",
    "# Now calculate the parameter values for the conventional parameters\n",
    "t0 =time.time()\n",
    "\n",
    "df_conventional_2test = getRoughnessParams(znew, xnew, ynew,\n",
    "                                     version='all',\n",
    "                                     shift=True)\n",
    "df_conventional_2test['id'] = range(znew.shape[0])\n",
    "\n",
    "print(f'Calculating conventional parameters took {time.time() - t0} seconds.')"
   ]
  },
  {
   "cell_type": "code",
   "execution_count": null,
   "metadata": {},
   "outputs": [
    {
     "name": "stdout",
     "output_type": "stream",
     "text": [
      "The maximal difference between function values is: Sa     0.000000e+00\n",
      "Sq     2.168404e-19\n",
      "Ssk    1.665335e-16\n",
      "Sku    0.000000e+00\n",
      "Sz     0.000000e+00\n",
      "Sdq    1.355253e-20\n",
      "Sdr    0.000000e+00\n",
      "id     0.000000e+00\n",
      "dtype: float64\n"
     ]
    }
   ],
   "source": [
    "print('The maximal difference between function values is:\\n',\n",
    "      np.max(df_conventional - df_conventional_2test))"
   ]
  },
  {
   "cell_type": "markdown",
   "metadata": {},
   "source": [
    "## PERSISTENCE"
   ]
  },
  {
   "cell_type": "code",
   "execution_count": 33,
   "metadata": {},
   "outputs": [
    {
     "name": "stdout",
     "output_type": "stream",
     "text": [
      "Calculating persistence took 112.47987198829651 seconds.\n",
      "Calculating persistence parameters took 11.450834035873413 seconds.\n",
      "Calculating persistence took 109.93108797073364 seconds.\n",
      "Calculating persistence parameters took 11.662253856658936 seconds.\n"
     ]
    }
   ],
   "source": [
    "#now calculate the persistence parameters\n",
    "t0 =time.time()\n",
    "\n",
    "#TODO add parameter to say what we do with the infinite class\n",
    "# right now: set infinite death time to maximum value of heightmap\n",
    "pers = getPersistence(znew, reduced_homology=False, coeff=2)\n",
    "\n",
    "print(f'Calculating persistence took {time.time() - t0} seconds.')\n",
    "t0 =time.time()\n",
    "\n",
    "names, params = persistence_parameters(pers)\n",
    "df_persistence = pd.DataFrame(data=params, columns=names)\n",
    "df_persistence['id'] = range(znew.shape[0])\n",
    "\n",
    "print(f'Calculating persistence parameters took {time.time() - t0} seconds.')\n",
    "\n",
    "## TEST\n",
    "#now calculate the persistence parameters\n",
    "t0 =time.time()\n",
    "\n",
    "#TODO add parameter to say what we do with the infinite class\n",
    "# right now: set infinite death time to maximum value of heightmap\n",
    "pers_2test = getPersistence(znew, reduced_homology=False, coeff=2)\n",
    "\n",
    "print(f'Calculating persistence took {time.time() - t0} seconds.')\n",
    "t0 =time.time()\n",
    "\n",
    "names_2test, params_2test = persistence_parameters(pers_2test)\n",
    "df_persistence_2test = pd.DataFrame(data=params_2test, columns=names_2test)\n",
    "df_persistence_2test['id'] = range(znew.shape[0])\n",
    "\n",
    "print(f'Calculating persistence parameters took {time.time() - t0} seconds.')"
   ]
  },
  {
   "cell_type": "code",
   "execution_count": 46,
   "metadata": {},
   "outputs": [
    {
     "name": "stdout",
     "output_type": "stream",
     "text": [
      "They are the same!\n"
     ]
    }
   ],
   "source": [
    "assert (pers == pers_2test).all()\n",
    "\n",
    "if not (df_persistence == df_persistence_2test).all().all():\n",
    "    print('Maximal difference is:\\n',\n",
    "          np.max(np.max(df_persistence - df_persistence_2test)))\n",
    "else:\n",
    "    print('They are the same!')"
   ]
  },
  {
   "cell_type": "markdown",
   "metadata": {},
   "source": [
    "## Reset complete namespace\n",
    "\n",
    "So that the jupyter notebook doesn't clutter anything, we delete it's namespace in the end."
   ]
  },
  {
   "cell_type": "code",
   "execution_count": 47,
   "metadata": {},
   "outputs": [],
   "source": [
    "%reset "
   ]
  }
 ],
 "metadata": {
  "interpreter": {
   "hash": "498cefaf8d0898ee928794f48868e4ec654a1cb58f358fafec9e4a92fd13f5d0"
  },
  "kernelspec": {
   "display_name": "Python 3.8.12 64-bit ('shotpeening': conda)",
   "name": "python3"
  },
  "language_info": {
   "codemirror_mode": {
    "name": "ipython",
    "version": 3
   },
   "file_extension": ".py",
   "mimetype": "text/x-python",
   "name": "python",
   "nbconvert_exporter": "python",
   "pygments_lexer": "ipython3",
   "version": "3.8.12"
  },
  "orig_nbformat": 4
 },
 "nbformat": 4,
 "nbformat_minor": 2
}
