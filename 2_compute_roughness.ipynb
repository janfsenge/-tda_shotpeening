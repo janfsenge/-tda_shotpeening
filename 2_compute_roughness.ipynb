{
 "cells": [
  {
   "cell_type": "code",
   "execution_count": 11,
   "metadata": {},
   "outputs": [
    {
     "name": "stdout",
     "output_type": "stream",
     "text": [
      "The autoreload extension is already loaded. To reload it, use:\n",
      "  %reload_ext autoreload\n"
     ]
    }
   ],
   "source": [
    "%load_ext autoreload\n",
    "%autoreload 2"
   ]
  },
  {
   "cell_type": "code",
   "execution_count": 12,
   "metadata": {},
   "outputs": [],
   "source": [
    "import numpy as np\n",
    "import pandas as pd\n",
    "import time\n",
    "\n",
    "import matplotlib.pyplot as plt\n",
    "import seaborn as sns\n",
    "\n",
    "from pathlib import Path\n",
    "\n",
    "# import path variables\n",
    "from src.config import data_path_interim, data_path_processed\n",
    "# import simulation parameters\n",
    "from src.config import simulation_parameters\n",
    "\n",
    "#\n",
    "from src.parameters.areal_surface_parameter import getRoughnessParams\n",
    "from src.parameters.persistence_parameters import getPersistence, persistence_parameters\n",
    "from src.postprocessing import wrapper_postprocess"
   ]
  },
  {
   "cell_type": "code",
   "execution_count": 13,
   "metadata": {},
   "outputs": [],
   "source": [
    "# load data, get the according values and delete the loaded data again\n",
    "fn = f'surface_numSimulation_{simulation_parameters[\"calculation_method\"]}.npz'\n",
    "data = np.load(data_path_interim / fn)\n",
    "height = data['values']\n",
    "x_grid = data['x_grid']\n",
    "y_grid = data['y_grid']\n",
    "\n",
    "fn = f'surface_numSimulation_newcoverage_{simulation_parameters[\"calculation_method\"]}.csv'\n",
    "df_info = pd.read_csv(data_path_interim / fn)"
   ]
  },
  {
   "cell_type": "markdown",
   "metadata": {},
   "source": [
    "Due to the setup of the FE modelling, we have not introduced any tilting in the surface sample.\n",
    "\n",
    "Potsprocessing therefore does not need an nominal surface to be subtracted from the surface.\n",
    "\n",
    "Only step to be done is to apply Gaussian filtering with an cut-off of 0.08mm using FastFourier transform (with zero padding)."
   ]
  },
  {
   "cell_type": "code",
   "execution_count": 14,
   "metadata": {},
   "outputs": [
    {
     "name": "stdout",
     "output_type": "stream",
     "text": [
      "Processing of the surface is done using: filt\n",
      "Remove a least square fitted plane from surface: False\n",
      "Use gausian filter: True\n",
      "Inteprolation postproces: 0\n"
     ]
    }
   ],
   "source": [
    "processed = simulation_parameters['simulation_processed']\n",
    "print('Processing of the surface is done using:', processed)\n",
    "\n",
    "# since we already interpolated the surface we do not do that again\n",
    "# during postprocessing\n",
    "interpolation_size = simulation_parameters['interpolation_size_postprocess']\n",
    "\n",
    "use_filter = False\n",
    "removeplane = False\n",
    "if 'filt' in processed:\n",
    "    use_filter = True\n",
    "if 'nom' in processed:\n",
    "    removeplane = True\n",
    "    \n",
    "print('Remove a least square fitted plane from surface:', removeplane)\n",
    "print('Use gausian filter:', use_filter)\n",
    "print('Inteprolation postproces:', interpolation_size)"
   ]
  },
  {
   "cell_type": "code",
   "execution_count": 15,
   "metadata": {},
   "outputs": [
    {
     "name": "stdout",
     "output_type": "stream",
     "text": [
      "Postprocessing took 65.86734080314636 seconds.\n"
     ]
    }
   ],
   "source": [
    "# postprocessing; use gaussian filter and do a least square fit\n",
    "# do not interpolate the heightmap again\n",
    "\n",
    "t0 = time.time()\n",
    "znew, xnew, ynew = wrapper_postprocess(height,\n",
    "                                       x_grid,\n",
    "                                       y_grid,\n",
    "                                       removeplane=removeplane,\n",
    "                                       use_filter=use_filter,\n",
    "                                       interpolation_size=interpolation_size,\n",
    "                                       cut_matrix=2,\n",
    "                                       dimension=2,\n",
    "                                       cut_off=simulation_parameters['cut_off_wavelength'])\n",
    "print(f'Postprocessing took {time.time() - t0} seconds.')"
   ]
  },
  {
   "cell_type": "code",
   "execution_count": 16,
   "metadata": {},
   "outputs": [
    {
     "name": "stdout",
     "output_type": "stream",
     "text": [
      "Calculating conventional parameters took 39.865631103515625 seconds.\n"
     ]
    }
   ],
   "source": [
    "# Now calculate the parameter values for the conventional parameters\n",
    "t0 =time.time()\n",
    "\n",
    "df_conventional = getRoughnessParams(znew, xnew, ynew,\n",
    "                                     version='all',\n",
    "                                     shift=True)\n",
    "df_conventional['id'] = range(znew.shape[0])\n",
    "\n",
    "print(f'Calculating conventional parameters took {time.time() - t0} seconds.')"
   ]
  },
  {
   "cell_type": "code",
   "execution_count": 17,
   "metadata": {},
   "outputs": [
    {
     "name": "stdout",
     "output_type": "stream",
     "text": [
      "Calculating persistence took 123.40217804908752 seconds.\n",
      "Calculating persistence parameters took 11.895437717437744 seconds.\n"
     ]
    }
   ],
   "source": [
    "#now calculate the persistence parameters\n",
    "t0 =time.time()\n",
    "\n",
    "#TODO add parameter to say what we do with the infinite class\n",
    "# right now: set infinite death time to maximum value of heightmap\n",
    "pers = getPersistence(znew, reduced_homology=False, coeff=2)\n",
    "\n",
    "print(f'Calculating persistence took {time.time() - t0} seconds.')\n",
    "t0 =time.time()\n",
    "\n",
    "names, params = persistence_parameters(pers)\n",
    "df_persistence = pd.DataFrame(data=params, columns=names)\n",
    "df_persistence['id'] = range(znew.shape[0])\n",
    "\n",
    "print(f'Calculating persistence parameters took {time.time() - t0} seconds.')"
   ]
  },
  {
   "cell_type": "code",
   "execution_count": 18,
   "metadata": {},
   "outputs": [],
   "source": [
    "# now merge all data and assign a processed value\n",
    "df_merged = df_info.merge(df_conventional,\n",
    "                          on=['id'], how='outer')\n",
    "df_merged = df_merged.merge(df_persistence,\n",
    "                            on=['id'], how='outer')\n",
    "df_merged['processed'] = processed"
   ]
  },
  {
   "cell_type": "code",
   "execution_count": 19,
   "metadata": {},
   "outputs": [],
   "source": [
    "# now merge all data and assign a processed value\n",
    "df_merged = df_info.merge(df_conventional,\n",
    "                          on=['id'], how='outer')\n",
    "df_merged = df_merged.merge(df_persistence,\n",
    "                            on=['id'], how='outer')\n",
    "df_merged['processed'] = processed"
   ]
  },
  {
   "cell_type": "code",
   "execution_count": 20,
   "metadata": {},
   "outputs": [],
   "source": [
    "# save data\n",
    "fn = f'numSimulation_parameters_{simulation_parameters[\"calculation_method\"]}.csv'\n",
    "df_merged.to_csv(data_path_processed / fn,\n",
    "                index=False)\n",
    "\n",
    "fn = f'diagrams_{simulation_parameters[\"calculation_method\"]}.npy'\n",
    "np.save(data_path_processed / fn,\n",
    "        pers, allow_pickle=False)"
   ]
  }
 ],
 "metadata": {
  "interpreter": {
   "hash": "498cefaf8d0898ee928794f48868e4ec654a1cb58f358fafec9e4a92fd13f5d0"
  },
  "kernelspec": {
   "display_name": "Python 3.8.12 64-bit ('shotpeening': conda)",
   "name": "python3"
  },
  "language_info": {
   "codemirror_mode": {
    "name": "ipython",
    "version": 3
   },
   "file_extension": ".py",
   "mimetype": "text/x-python",
   "name": "python",
   "nbconvert_exporter": "python",
   "pygments_lexer": "ipython3",
   "version": "3.8.12"
  },
  "orig_nbformat": 4
 },
 "nbformat": 4,
 "nbformat_minor": 2
}
